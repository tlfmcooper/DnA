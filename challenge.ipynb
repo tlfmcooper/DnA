{
 "cells": [
  {
   "cell_type": "code",
   "execution_count": 14,
   "metadata": {},
   "outputs": [],
   "source": [
    "import pandas as pd\n",
    "from utils import *\n",
    "import numpy as np\n",
    "import folium\n",
    "from IPython.display import display\n",
    "import matplotlib.pyplot as plt\n",
    "import folium"
   ]
  },
  {
   "cell_type": "markdown",
   "metadata": {},
   "source": [
    "## Data preprocessing"
   ]
  },
  {
   "cell_type": "markdown",
   "metadata": {},
   "source": [
    "### Reading the Airport codes data"
   ]
  },
  {
   "cell_type": "code",
   "execution_count": 4,
   "metadata": {},
   "outputs": [
    {
     "data": {
      "text/html": [
       "<div>\n",
       "<style scoped>\n",
       "    .dataframe tbody tr th:only-of-type {\n",
       "        vertical-align: middle;\n",
       "    }\n",
       "\n",
       "    .dataframe tbody tr th {\n",
       "        vertical-align: top;\n",
       "    }\n",
       "\n",
       "    .dataframe thead th {\n",
       "        text-align: right;\n",
       "    }\n",
       "</style>\n",
       "<table border=\"1\" class=\"dataframe\">\n",
       "  <thead>\n",
       "    <tr style=\"text-align: right;\">\n",
       "      <th></th>\n",
       "      <th>TYPE</th>\n",
       "      <th>NAME</th>\n",
       "      <th>ELEVATION_FT</th>\n",
       "      <th>CONTINENT</th>\n",
       "      <th>ISO_COUNTRY</th>\n",
       "      <th>MUNICIPALITY</th>\n",
       "      <th>IATA_CODE</th>\n",
       "      <th>LONGITUDE</th>\n",
       "      <th>LATITUDE</th>\n",
       "    </tr>\n",
       "  </thead>\n",
       "  <tbody>\n",
       "    <tr>\n",
       "      <th>0</th>\n",
       "      <td>heliport</td>\n",
       "      <td>Total Rf Heliport</td>\n",
       "      <td>11.0</td>\n",
       "      <td>NaN</td>\n",
       "      <td>US</td>\n",
       "      <td>Bensalem</td>\n",
       "      <td>NaN</td>\n",
       "      <td>-74.93360137939453</td>\n",
       "      <td>40.07080078125</td>\n",
       "    </tr>\n",
       "    <tr>\n",
       "      <th>1</th>\n",
       "      <td>small_airport</td>\n",
       "      <td>Aero B Ranch Airport</td>\n",
       "      <td>3435.0</td>\n",
       "      <td>NaN</td>\n",
       "      <td>US</td>\n",
       "      <td>Leoti</td>\n",
       "      <td>NaN</td>\n",
       "      <td>-101.473911</td>\n",
       "      <td>38.704022</td>\n",
       "    </tr>\n",
       "    <tr>\n",
       "      <th>2</th>\n",
       "      <td>small_airport</td>\n",
       "      <td>Lowell Field</td>\n",
       "      <td>450.0</td>\n",
       "      <td>NaN</td>\n",
       "      <td>US</td>\n",
       "      <td>Anchor Point</td>\n",
       "      <td>NaN</td>\n",
       "      <td>-151.695999146</td>\n",
       "      <td>59.94919968</td>\n",
       "    </tr>\n",
       "    <tr>\n",
       "      <th>3</th>\n",
       "      <td>small_airport</td>\n",
       "      <td>Epps Airpark</td>\n",
       "      <td>820.0</td>\n",
       "      <td>NaN</td>\n",
       "      <td>US</td>\n",
       "      <td>Harvest</td>\n",
       "      <td>NaN</td>\n",
       "      <td>-86.77030181884766</td>\n",
       "      <td>34.86479949951172</td>\n",
       "    </tr>\n",
       "    <tr>\n",
       "      <th>4</th>\n",
       "      <td>closed</td>\n",
       "      <td>Newport Hospital &amp; Clinic Heliport</td>\n",
       "      <td>237.0</td>\n",
       "      <td>NaN</td>\n",
       "      <td>US</td>\n",
       "      <td>Newport</td>\n",
       "      <td>NaN</td>\n",
       "      <td>-91.254898</td>\n",
       "      <td>35.6087</td>\n",
       "    </tr>\n",
       "  </tbody>\n",
       "</table>\n",
       "</div>"
      ],
      "text/plain": [
       "            TYPE                                NAME  ELEVATION_FT CONTINENT  \\\n",
       "0       heliport                   Total Rf Heliport          11.0       NaN   \n",
       "1  small_airport                Aero B Ranch Airport        3435.0       NaN   \n",
       "2  small_airport                        Lowell Field         450.0       NaN   \n",
       "3  small_airport                        Epps Airpark         820.0       NaN   \n",
       "4         closed  Newport Hospital & Clinic Heliport         237.0       NaN   \n",
       "\n",
       "  ISO_COUNTRY  MUNICIPALITY IATA_CODE           LONGITUDE            LATITUDE  \n",
       "0          US      Bensalem       NaN  -74.93360137939453      40.07080078125  \n",
       "1          US         Leoti       NaN         -101.473911           38.704022  \n",
       "2          US  Anchor Point       NaN      -151.695999146         59.94919968  \n",
       "3          US       Harvest       NaN  -86.77030181884766   34.86479949951172  \n",
       "4          US       Newport       NaN          -91.254898             35.6087  "
      ]
     },
     "execution_count": 4,
     "metadata": {},
     "output_type": "execute_result"
    }
   ],
   "source": [
    "airport_codes = pd.read_csv('Airport_Codes.csv')\n",
    "airport_codes = split_df_columns(airport_codes, 'COORDINATES', ['LONGITUDE','LATITUDE'])\n",
    "airport_codes.head()"
   ]
  },
  {
   "cell_type": "markdown",
   "metadata": {},
   "source": [
    "I splitted the coordinates column into Longitude and coordinates"
   ]
  },
  {
   "cell_type": "markdown",
   "metadata": {},
   "source": [
    "### Reading the Metadata data"
   ]
  },
  {
   "cell_type": "code",
   "execution_count": 5,
   "metadata": {},
   "outputs": [
    {
     "data": {
      "text/html": [
       "<div>\n",
       "<style scoped>\n",
       "    .dataframe tbody tr th:only-of-type {\n",
       "        vertical-align: middle;\n",
       "    }\n",
       "\n",
       "    .dataframe tbody tr th {\n",
       "        vertical-align: top;\n",
       "    }\n",
       "\n",
       "    .dataframe thead th {\n",
       "        text-align: right;\n",
       "    }\n",
       "</style>\n",
       "<table border=\"1\" class=\"dataframe\">\n",
       "  <thead>\n",
       "    <tr style=\"text-align: right;\">\n",
       "      <th></th>\n",
       "      <th>Dataset Name</th>\n",
       "      <th>Description</th>\n",
       "    </tr>\n",
       "  </thead>\n",
       "  <tbody>\n",
       "    <tr>\n",
       "      <th>0</th>\n",
       "      <td>Airport_Codes</td>\n",
       "      <td>Information on airports and includes airport c...</td>\n",
       "    </tr>\n",
       "    <tr>\n",
       "      <th>1</th>\n",
       "      <td>Flights</td>\n",
       "      <td>Flights data for Q1 2019 and includes date, or...</td>\n",
       "    </tr>\n",
       "    <tr>\n",
       "      <th>2</th>\n",
       "      <td>Tickets</td>\n",
       "      <td>Sample tickets data for Q1 2019 and includes i...</td>\n",
       "    </tr>\n",
       "  </tbody>\n",
       "</table>\n",
       "</div>"
      ],
      "text/plain": [
       "    Dataset Name                                        Description\n",
       "0  Airport_Codes  Information on airports and includes airport c...\n",
       "1        Flights  Flights data for Q1 2019 and includes date, or...\n",
       "2        Tickets  Sample tickets data for Q1 2019 and includes i..."
      ]
     },
     "execution_count": 5,
     "metadata": {},
     "output_type": "execute_result"
    }
   ],
   "source": [
    "metadata = read_excel_tabs('Airline_Challenge_Metadata.xlsx')\n",
    "dataset_meta, airport_codes_meta, flights_meta, tickets_meta = metadata\n",
    "dataset_meta.head()"
   ]
  },
  {
   "cell_type": "markdown",
   "metadata": {},
   "source": [
    "###  Reading the Flights data"
   ]
  },
  {
   "cell_type": "code",
   "execution_count": 6,
   "metadata": {},
   "outputs": [
    {
     "name": "stderr",
     "output_type": "stream",
     "text": [
      "C:\\Users\\Ali Kone\\AppData\\Local\\Temp\\ipykernel_24100\\3761071849.py:1: DtypeWarning: Columns (3,13,14) have mixed types. Specify dtype option on import or set low_memory=False.\n",
      "  flights = pd.read_csv('Flights.csv', parse_dates=['FL_DATE'])\n"
     ]
    }
   ],
   "source": [
    "flights = pd.read_csv('Flights.csv', parse_dates=['FL_DATE'])"
   ]
  },
  {
   "cell_type": "code",
   "execution_count": 7,
   "metadata": {},
   "outputs": [
    {
     "name": "stdout",
     "output_type": "stream",
     "text": [
      "<class 'pandas.core.frame.DataFrame'>\n",
      "RangeIndex: 1915886 entries, 0 to 1915885\n",
      "Data columns (total 16 columns):\n",
      " #   Column             Dtype  \n",
      "---  ------             -----  \n",
      " 0   FL_DATE            object \n",
      " 1   OP_CARRIER         object \n",
      " 2   TAIL_NUM           object \n",
      " 3   OP_CARRIER_FL_NUM  object \n",
      " 4   ORIGIN_AIRPORT_ID  int64  \n",
      " 5   ORIGIN             object \n",
      " 6   ORIGIN_CITY_NAME   object \n",
      " 7   DEST_AIRPORT_ID    int64  \n",
      " 8   DESTINATION        object \n",
      " 9   DEST_CITY_NAME     object \n",
      " 10  DEP_DELAY          float64\n",
      " 11  ARR_DELAY          float64\n",
      " 12  CANCELLED          float64\n",
      " 13  AIR_TIME           object \n",
      " 14  DISTANCE           object \n",
      " 15  OCCUPANCY_RATE     float64\n",
      "dtypes: float64(4), int64(2), object(10)\n",
      "memory usage: 233.9+ MB\n"
     ]
    }
   ],
   "source": [
    "flights.info()"
   ]
  },
  {
   "cell_type": "markdown",
   "metadata": {},
   "source": [
    "The flights dataset contains 1915886 rows and 16 columns. Most of the columns have the wrong data type (`object`) as shown above. Some of the columns such as columns 3, 13 and 14 have a mixed type as indicated by the warning when loading the CSV into a dataframe. We are going to use the `sanitize_df_columns` function from the `utils` module to clean these columns.\n"
   ]
  },
  {
   "cell_type": "code",
   "execution_count": 8,
   "metadata": {},
   "outputs": [
    {
     "name": "stdout",
     "output_type": "stream",
     "text": [
      "Sanitizing OP_CARRIER_FL_NUM...\n",
      "Sanitizing OP_CARRIER_FL_NUM done.\n",
      "Sanitizing AIR_TIME...\n",
      "Sanitizing AIR_TIME done.\n",
      "Sanitizing DISTANCE...\n",
      "Sanitizing DISTANCE done.\n",
      "<class 'pandas.core.frame.DataFrame'>\n",
      "RangeIndex: 1915886 entries, 0 to 1915885\n",
      "Data columns (total 16 columns):\n",
      " #   Column             Dtype         \n",
      "---  ------             -----         \n",
      " 0   FL_DATE            datetime64[ns]\n",
      " 1   OP_CARRIER         object        \n",
      " 2   TAIL_NUM           object        \n",
      " 3   OP_CARRIER_FL_NUM  float64       \n",
      " 4   ORIGIN_AIRPORT_ID  int64         \n",
      " 5   ORIGIN             object        \n",
      " 6   ORIGIN_CITY_NAME   object        \n",
      " 7   DEST_AIRPORT_ID    int64         \n",
      " 8   DESTINATION        object        \n",
      " 9   DEST_CITY_NAME     object        \n",
      " 10  DEP_DELAY          float64       \n",
      " 11  ARR_DELAY          float64       \n",
      " 12  CANCELLED          float64       \n",
      " 13  AIR_TIME           float64       \n",
      " 14  DISTANCE           float64       \n",
      " 15  OCCUPANCY_RATE     float64       \n",
      "dtypes: datetime64[ns](1), float64(7), int64(2), object(6)\n",
      "memory usage: 233.9+ MB\n"
     ]
    }
   ],
   "source": [
    "# Sanitizing the flights dataset\n",
    "columns_to_sanitize = [\"OP_CARRIER_FL_NUM\",\"AIR_TIME\",\"DISTANCE\"]\n",
    "for col in columns_to_sanitize:\n",
    "    sanitize_df_columns(flights, col)\n",
    "\n",
    "flights.info()"
   ]
  },
  {
   "cell_type": "markdown",
   "metadata": {},
   "source": [
    "We observe that there are missing  values in some column of the flights dataset. Let get a look at the missing values and deal with them."
   ]
  },
  {
   "cell_type": "code",
   "execution_count": 9,
   "metadata": {},
   "outputs": [
    {
     "data": {
      "text/plain": [
       "FL_DATE                    0\n",
       "OP_CARRIER                 0\n",
       "TAIL_NUM                   0\n",
       "OP_CARRIER_FL_NUM         40\n",
       "ORIGIN_AIRPORT_ID          0\n",
       "ORIGIN                     0\n",
       "ORIGIN_CITY_NAME           0\n",
       "DEST_AIRPORT_ID            0\n",
       "DESTINATION                0\n",
       "DEST_CITY_NAME             0\n",
       "DEP_DELAY              50351\n",
       "ARR_DELAY              55991\n",
       "CANCELLED                  0\n",
       "AIR_TIME             1913576\n",
       "DISTANCE             1913806\n",
       "OCCUPANCY_RATE           310\n",
       "dtype: int64"
      ]
     },
     "execution_count": 9,
     "metadata": {},
     "output_type": "execute_result"
    }
   ],
   "source": [
    "flights.isnull().sum()"
   ]
  },
  {
   "cell_type": "markdown",
   "metadata": {},
   "source": [
    "This dataset  has a lot of missing values. The most important columns are `OP_CARRIER_FL_NUM` which have 40 missing values, `DEP_DELAY` which have 50351 missing values, `ARR_DELAY` which have 55991 missing values and `OCCUPANCY_RATE` which have 310 missing values and `DISTANCE` which have 1,913,806 missing values. These are the most important columns because they are used in the calculation of business metrics( busiest routes, most profitable routes, most popular routes, etc.).\n",
    "\n",
    "There are 2 options when dealing with these missing values, we either drop the missing values or replace them with an inputed value which could be the mean, median, mode of the other values or even with zero.\n",
    "- The `OP_CARRIER_FL_NUM` column has 40 missing values and this column does not have any specific meaning. We will drop these values.\n",
    "- For the `ARR_DELAY` column and `DEP_DELAY` column, we can safely assume that the missing values are zero. because these values represent (`55,991/1,915,886 = 2.93% `) and (`50,351/1,915,886 = 2.63% `) \n",
    "of the total dataset, so the absence must mean that there was no delay.\n",
    "- For the `DISTANCE` and `OCCUPANCY_RATE` columns, we will inpute the missing values with the median of the other values because any completed flights will have some distance between the origin and the destination and a non-zero occupancy rate. The median was chosen instead of the mean because the median is more robust to outliers."
   ]
  },
  {
   "cell_type": "code",
   "execution_count": 10,
   "metadata": {},
   "outputs": [
    {
     "data": {
      "text/plain": [
       "FL_DATE              datetime64[ns]\n",
       "OP_CARRIER                   object\n",
       "TAIL_NUM                     object\n",
       "OP_CARRIER_FL_NUM           float64\n",
       "ORIGIN_AIRPORT_ID             int64\n",
       "ORIGIN                       object\n",
       "ORIGIN_CITY_NAME             object\n",
       "DEST_AIRPORT_ID               int64\n",
       "DESTINATION                  object\n",
       "DEST_CITY_NAME               object\n",
       "DEP_DELAY                   float64\n",
       "ARR_DELAY                   float64\n",
       "CANCELLED                   float64\n",
       "AIR_TIME                    float64\n",
       "DISTANCE                    float64\n",
       "OCCUPANCY_RATE              float64\n",
       "dtype: object"
      ]
     },
     "execution_count": 10,
     "metadata": {},
     "output_type": "execute_result"
    }
   ],
   "source": [
    "flights.dtypes"
   ]
  },
  {
   "cell_type": "code",
   "execution_count": 11,
   "metadata": {},
   "outputs": [],
   "source": [
    "# Drop the missing values\n",
    "flights = flights.dropna(subset=['OP_CARRIER_FL_NUM'])\n",
    "\n",
    "#Filling in the missing values with zero\n",
    "flights[[\"ARR_DELAY\",\"DEP_DELAY\"]] = flights[[\"ARR_DELAY\",\"DEP_DELAY\"]].fillna(0)\n",
    "\n",
    "# Fill missing values in 'DISTANCE' and 'OCCUPANCY_RATE' with median\n",
    "median_distance = flights['DISTANCE'].median()\n",
    "median_occupancy_rate = flights['OCCUPANCY_RATE'].median()\n",
    "\n",
    "\n",
    "flights['DISTANCE'] = flights['DISTANCE'].fillna(median_distance)\n",
    "flights['OCCUPANCY_RATE'] = flights['OCCUPANCY_RATE'].fillna(median_occupancy_rate)"
   ]
  },
  {
   "cell_type": "code",
   "execution_count": 12,
   "metadata": {},
   "outputs": [
    {
     "data": {
      "text/plain": [
       "FL_DATE                    0\n",
       "OP_CARRIER                 0\n",
       "TAIL_NUM                   0\n",
       "OP_CARRIER_FL_NUM          0\n",
       "ORIGIN_AIRPORT_ID          0\n",
       "ORIGIN                     0\n",
       "ORIGIN_CITY_NAME           0\n",
       "DEST_AIRPORT_ID            0\n",
       "DESTINATION                0\n",
       "DEST_CITY_NAME             0\n",
       "DEP_DELAY                  0\n",
       "ARR_DELAY                  0\n",
       "CANCELLED                  0\n",
       "AIR_TIME             1913576\n",
       "DISTANCE                   0\n",
       "OCCUPANCY_RATE             0\n",
       "dtype: int64"
      ]
     },
     "execution_count": 12,
     "metadata": {},
     "output_type": "execute_result"
    }
   ],
   "source": [
    "flights.isnull().sum()"
   ]
  },
  {
   "cell_type": "markdown",
   "metadata": {},
   "source": [
    "The flights dataset does not have any missing values now except for `AIR_TIME` which is not relevant for the purpose of our analysis. We can move on with loading and cleaning other datasets"
   ]
  },
  {
   "cell_type": "markdown",
   "metadata": {},
   "source": [
    "### Reading the tickets data"
   ]
  },
  {
   "cell_type": "code",
   "execution_count": 13,
   "metadata": {},
   "outputs": [],
   "source": [
    "tickets = pd.read_csv('Tickets.csv')"
   ]
  },
  {
   "cell_type": "code",
   "execution_count": 14,
   "metadata": {},
   "outputs": [
    {
     "name": "stdout",
     "output_type": "stream",
     "text": [
      "<class 'pandas.core.frame.DataFrame'>\n",
      "RangeIndex: 1167285 entries, 0 to 1167284\n",
      "Data columns (total 12 columns):\n",
      " #   Column             Non-Null Count    Dtype  \n",
      "---  ------             --------------    -----  \n",
      " 0   ITIN_ID            1167285 non-null  int64  \n",
      " 1   YEAR               1167285 non-null  int64  \n",
      " 2   QUARTER            1167285 non-null  int64  \n",
      " 3   ORIGIN             1167285 non-null  object \n",
      " 4   ORIGIN_COUNTRY     1167285 non-null  object \n",
      " 5   ORIGIN_STATE_ABR   1167285 non-null  object \n",
      " 6   ORIGIN_STATE_NM    1167285 non-null  object \n",
      " 7   ROUNDTRIP          1167285 non-null  float64\n",
      " 8   REPORTING_CARRIER  1167285 non-null  object \n",
      " 9   PASSENGERS         1165308 non-null  float64\n",
      " 10  ITIN_FARE          1166325 non-null  object \n",
      " 11  DESTINATION        1167285 non-null  object \n",
      "dtypes: float64(2), int64(3), object(7)\n",
      "memory usage: 106.9+ MB\n"
     ]
    }
   ],
   "source": [
    "tickets.info()"
   ]
  },
  {
   "cell_type": "markdown",
   "metadata": {},
   "source": [
    "The `INTIN_FARE` column has the wrong data type (`Object`) because the column includes some characters that are not numbers. We are going to use the `sanitize_df_columns` function from the `utils` module to clean this `tickets` data as well."
   ]
  },
  {
   "cell_type": "code",
   "execution_count": 15,
   "metadata": {},
   "outputs": [
    {
     "name": "stdout",
     "output_type": "stream",
     "text": [
      "Sanitizing ITIN_FARE...\n",
      "Sanitizing ITIN_FARE done.\n"
     ]
    },
    {
     "data": {
      "text/html": [
       "<div>\n",
       "<style scoped>\n",
       "    .dataframe tbody tr th:only-of-type {\n",
       "        vertical-align: middle;\n",
       "    }\n",
       "\n",
       "    .dataframe tbody tr th {\n",
       "        vertical-align: top;\n",
       "    }\n",
       "\n",
       "    .dataframe thead th {\n",
       "        text-align: right;\n",
       "    }\n",
       "</style>\n",
       "<table border=\"1\" class=\"dataframe\">\n",
       "  <thead>\n",
       "    <tr style=\"text-align: right;\">\n",
       "      <th></th>\n",
       "      <th>ITIN_ID</th>\n",
       "      <th>YEAR</th>\n",
       "      <th>QUARTER</th>\n",
       "      <th>ORIGIN</th>\n",
       "      <th>ORIGIN_COUNTRY</th>\n",
       "      <th>ORIGIN_STATE_ABR</th>\n",
       "      <th>ORIGIN_STATE_NM</th>\n",
       "      <th>ROUNDTRIP</th>\n",
       "      <th>REPORTING_CARRIER</th>\n",
       "      <th>PASSENGERS</th>\n",
       "      <th>ITIN_FARE</th>\n",
       "      <th>DESTINATION</th>\n",
       "    </tr>\n",
       "  </thead>\n",
       "  <tbody>\n",
       "    <tr>\n",
       "      <th>0</th>\n",
       "      <td>201912723049</td>\n",
       "      <td>2019</td>\n",
       "      <td>1</td>\n",
       "      <td>ABI</td>\n",
       "      <td>US</td>\n",
       "      <td>TX</td>\n",
       "      <td>Texas</td>\n",
       "      <td>1.0</td>\n",
       "      <td>MQ</td>\n",
       "      <td>1.0</td>\n",
       "      <td>NaN</td>\n",
       "      <td>DAB</td>\n",
       "    </tr>\n",
       "    <tr>\n",
       "      <th>1</th>\n",
       "      <td>201912723085</td>\n",
       "      <td>2019</td>\n",
       "      <td>1</td>\n",
       "      <td>ABI</td>\n",
       "      <td>US</td>\n",
       "      <td>TX</td>\n",
       "      <td>Texas</td>\n",
       "      <td>1.0</td>\n",
       "      <td>MQ</td>\n",
       "      <td>1.0</td>\n",
       "      <td>NaN</td>\n",
       "      <td>COS</td>\n",
       "    </tr>\n",
       "    <tr>\n",
       "      <th>2</th>\n",
       "      <td>201912723491</td>\n",
       "      <td>2019</td>\n",
       "      <td>1</td>\n",
       "      <td>ABI</td>\n",
       "      <td>US</td>\n",
       "      <td>TX</td>\n",
       "      <td>Texas</td>\n",
       "      <td>1.0</td>\n",
       "      <td>MQ</td>\n",
       "      <td>1.0</td>\n",
       "      <td>NaN</td>\n",
       "      <td>MCO</td>\n",
       "    </tr>\n",
       "    <tr>\n",
       "      <th>3</th>\n",
       "      <td>201912723428</td>\n",
       "      <td>2019</td>\n",
       "      <td>1</td>\n",
       "      <td>ABI</td>\n",
       "      <td>US</td>\n",
       "      <td>TX</td>\n",
       "      <td>Texas</td>\n",
       "      <td>1.0</td>\n",
       "      <td>MQ</td>\n",
       "      <td>1.0</td>\n",
       "      <td>NaN</td>\n",
       "      <td>LGA</td>\n",
       "    </tr>\n",
       "    <tr>\n",
       "      <th>4</th>\n",
       "      <td>201912723509</td>\n",
       "      <td>2019</td>\n",
       "      <td>1</td>\n",
       "      <td>ABI</td>\n",
       "      <td>US</td>\n",
       "      <td>TX</td>\n",
       "      <td>Texas</td>\n",
       "      <td>0.0</td>\n",
       "      <td>MQ</td>\n",
       "      <td>1.0</td>\n",
       "      <td>NaN</td>\n",
       "      <td>MGM</td>\n",
       "    </tr>\n",
       "    <tr>\n",
       "      <th>...</th>\n",
       "      <td>...</td>\n",
       "      <td>...</td>\n",
       "      <td>...</td>\n",
       "      <td>...</td>\n",
       "      <td>...</td>\n",
       "      <td>...</td>\n",
       "      <td>...</td>\n",
       "      <td>...</td>\n",
       "      <td>...</td>\n",
       "      <td>...</td>\n",
       "      <td>...</td>\n",
       "      <td>...</td>\n",
       "    </tr>\n",
       "    <tr>\n",
       "      <th>1167280</th>\n",
       "      <td>201911284909</td>\n",
       "      <td>2019</td>\n",
       "      <td>1</td>\n",
       "      <td>YAK</td>\n",
       "      <td>US</td>\n",
       "      <td>AK</td>\n",
       "      <td>Alaska</td>\n",
       "      <td>0.0</td>\n",
       "      <td>AS</td>\n",
       "      <td>1.0</td>\n",
       "      <td>NaN</td>\n",
       "      <td>ANC</td>\n",
       "    </tr>\n",
       "    <tr>\n",
       "      <th>1167281</th>\n",
       "      <td>201911284959</td>\n",
       "      <td>2019</td>\n",
       "      <td>1</td>\n",
       "      <td>YAK</td>\n",
       "      <td>US</td>\n",
       "      <td>AK</td>\n",
       "      <td>Alaska</td>\n",
       "      <td>1.0</td>\n",
       "      <td>AS</td>\n",
       "      <td>1.0</td>\n",
       "      <td>NaN</td>\n",
       "      <td>JNU</td>\n",
       "    </tr>\n",
       "    <tr>\n",
       "      <th>1167282</th>\n",
       "      <td>201911284940</td>\n",
       "      <td>2019</td>\n",
       "      <td>1</td>\n",
       "      <td>YAK</td>\n",
       "      <td>US</td>\n",
       "      <td>AK</td>\n",
       "      <td>Alaska</td>\n",
       "      <td>0.0</td>\n",
       "      <td>AS</td>\n",
       "      <td>1.0</td>\n",
       "      <td>NaN</td>\n",
       "      <td>JNU</td>\n",
       "    </tr>\n",
       "    <tr>\n",
       "      <th>1167283</th>\n",
       "      <td>201911284914</td>\n",
       "      <td>2019</td>\n",
       "      <td>1</td>\n",
       "      <td>YAK</td>\n",
       "      <td>US</td>\n",
       "      <td>AK</td>\n",
       "      <td>Alaska</td>\n",
       "      <td>0.0</td>\n",
       "      <td>AS</td>\n",
       "      <td>1.0</td>\n",
       "      <td>NaN</td>\n",
       "      <td>ANC</td>\n",
       "    </tr>\n",
       "    <tr>\n",
       "      <th>1167284</th>\n",
       "      <td>201911284952</td>\n",
       "      <td>2019</td>\n",
       "      <td>1</td>\n",
       "      <td>YAK</td>\n",
       "      <td>US</td>\n",
       "      <td>AK</td>\n",
       "      <td>Alaska</td>\n",
       "      <td>1.0</td>\n",
       "      <td>AS</td>\n",
       "      <td>1.0</td>\n",
       "      <td>NaN</td>\n",
       "      <td>JNU</td>\n",
       "    </tr>\n",
       "  </tbody>\n",
       "</table>\n",
       "<p>1167285 rows × 12 columns</p>\n",
       "</div>"
      ],
      "text/plain": [
       "              ITIN_ID  YEAR  QUARTER ORIGIN ORIGIN_COUNTRY ORIGIN_STATE_ABR  \\\n",
       "0        201912723049  2019        1    ABI             US               TX   \n",
       "1        201912723085  2019        1    ABI             US               TX   \n",
       "2        201912723491  2019        1    ABI             US               TX   \n",
       "3        201912723428  2019        1    ABI             US               TX   \n",
       "4        201912723509  2019        1    ABI             US               TX   \n",
       "...               ...   ...      ...    ...            ...              ...   \n",
       "1167280  201911284909  2019        1    YAK             US               AK   \n",
       "1167281  201911284959  2019        1    YAK             US               AK   \n",
       "1167282  201911284940  2019        1    YAK             US               AK   \n",
       "1167283  201911284914  2019        1    YAK             US               AK   \n",
       "1167284  201911284952  2019        1    YAK             US               AK   \n",
       "\n",
       "        ORIGIN_STATE_NM  ROUNDTRIP REPORTING_CARRIER  PASSENGERS  ITIN_FARE  \\\n",
       "0                 Texas        1.0                MQ         1.0        NaN   \n",
       "1                 Texas        1.0                MQ         1.0        NaN   \n",
       "2                 Texas        1.0                MQ         1.0        NaN   \n",
       "3                 Texas        1.0                MQ         1.0        NaN   \n",
       "4                 Texas        0.0                MQ         1.0        NaN   \n",
       "...                 ...        ...               ...         ...        ...   \n",
       "1167280          Alaska        0.0                AS         1.0        NaN   \n",
       "1167281          Alaska        1.0                AS         1.0        NaN   \n",
       "1167282          Alaska        0.0                AS         1.0        NaN   \n",
       "1167283          Alaska        0.0                AS         1.0        NaN   \n",
       "1167284          Alaska        1.0                AS         1.0        NaN   \n",
       "\n",
       "        DESTINATION  \n",
       "0               DAB  \n",
       "1               COS  \n",
       "2               MCO  \n",
       "3               LGA  \n",
       "4               MGM  \n",
       "...             ...  \n",
       "1167280         ANC  \n",
       "1167281         JNU  \n",
       "1167282         JNU  \n",
       "1167283         ANC  \n",
       "1167284         JNU  \n",
       "\n",
       "[1167285 rows x 12 columns]"
      ]
     },
     "execution_count": 15,
     "metadata": {},
     "output_type": "execute_result"
    }
   ],
   "source": [
    "sanitize_df_columns(tickets, 'ITIN_FARE', parse_dates=False)"
   ]
  },
  {
   "cell_type": "markdown",
   "metadata": {},
   "source": [
    "After the clean up all columns have the relevant data types."
   ]
  },
  {
   "cell_type": "markdown",
   "metadata": {},
   "source": [
    "# Data Analysis"
   ]
  },
  {
   "cell_type": "code",
   "execution_count": 17,
   "metadata": {},
   "outputs": [
    {
     "name": "stdout",
     "output_type": "stream",
     "text": [
      "(55369, 9)\n",
      "(1915846, 16)\n",
      "(1167285, 12)\n"
     ]
    }
   ],
   "source": [
    "print(airport_codes.shape)\n",
    "print(flights.shape)\n",
    "print(tickets.shape)"
   ]
  },
  {
   "cell_type": "markdown",
   "metadata": {},
   "source": [
    "### Identifying all flights completed in Q1 2019"
   ]
  },
  {
   "cell_type": "code",
   "execution_count": 18,
   "metadata": {},
   "outputs": [
    {
     "data": {
      "text/plain": [
       "count                          1915846\n",
       "mean     2019-02-15 10:15:47.447341568\n",
       "min                2019-01-01 00:00:00\n",
       "25%                2019-01-24 00:00:00\n",
       "50%                2019-02-16 00:00:00\n",
       "75%                2019-03-10 00:00:00\n",
       "max                2019-03-31 00:00:00\n",
       "Name: FL_DATE, dtype: object"
      ]
     },
     "execution_count": 18,
     "metadata": {},
     "output_type": "execute_result"
    }
   ],
   "source": [
    "flights.FL_DATE.describe()"
   ]
  },
  {
   "cell_type": "markdown",
   "metadata": {},
   "source": [
    "All flights were completed in Q1 2019. So there is no filter for flights that were not completed in Q1 2019."
   ]
  },
  {
   "cell_type": "code",
   "execution_count": 19,
   "metadata": {},
   "outputs": [],
   "source": [
    "# Convert columns to strings for merge  \n",
    "flights['ORIGIN_AIRPORT_ID'] = flights['ORIGIN_AIRPORT_ID'].astype(str)\n",
    "flights['DEST_AIRPORT_ID'] = flights['DEST_AIRPORT_ID'].astype(str)\n",
    "\n",
    "# Join tickets info\n",
    "flights = flights.merge(tickets, how='left', left_on=['ORIGIN_AIRPORT_ID','DEST_AIRPORT_ID'], right_on=['ORIGIN','DESTINATION'])\n",
    "\n",
    "# Join the airport codes info\n",
    "flights = flights.merge(airport_codes, left_on='ORIGIN_x', right_on='IATA_CODE')\n",
    "\n",
    "# Filter the merged dataset to medium and large hubs only\n",
    "flights = flights[flights['TYPE'].isin(['medium_airport','large_airport'])]\n",
    "\n",
    "# Identifying non-cancelled flights in Q1 2019\n",
    "flights = flights[flights['CANCELLED'] == 0] \n",
    "\n",
    "# Create a dictionary to map airport IDs to IATA codes\n",
    "airport_iata_map = flights.set_index('ORIGIN_AIRPORT_ID')['IATA_CODE'].to_dict()\n",
    "\n",
    "# Map IATA codes to ORIGIN_AIRPORT_ID\n",
    "flights['ORIGIN_IATA_CODE'] = flights['ORIGIN_AIRPORT_ID'].map(airport_iata_map)\n",
    "\n",
    "# Map IATA codes to DEST_AIRPORT_ID\n",
    "flights['DEST_IATA_CODE'] = flights['DEST_AIRPORT_ID'].map(airport_iata_map)"
   ]
  },
  {
   "cell_type": "markdown",
   "metadata": {},
   "source": [
    "### Indentifying 10 busiest routes in Q1 2019"
   ]
  },
  {
   "cell_type": "code",
   "execution_count": 46,
   "metadata": {},
   "outputs": [
    {
     "data": {
      "text/html": [
       "<div>\n",
       "<style scoped>\n",
       "    .dataframe tbody tr th:only-of-type {\n",
       "        vertical-align: middle;\n",
       "    }\n",
       "\n",
       "    .dataframe tbody tr th {\n",
       "        vertical-align: top;\n",
       "    }\n",
       "\n",
       "    .dataframe thead th {\n",
       "        text-align: right;\n",
       "    }\n",
       "</style>\n",
       "<table border=\"1\" class=\"dataframe\">\n",
       "  <thead>\n",
       "    <tr style=\"text-align: right;\">\n",
       "      <th></th>\n",
       "      <th>ORIGIN_IATA_CODE</th>\n",
       "      <th>DEST_IATA_CODE</th>\n",
       "      <th>number_of_flights</th>\n",
       "    </tr>\n",
       "  </thead>\n",
       "  <tbody>\n",
       "    <tr>\n",
       "      <th>2935</th>\n",
       "      <td>LAX</td>\n",
       "      <td>SFO</td>\n",
       "      <td>8,340</td>\n",
       "    </tr>\n",
       "    <tr>\n",
       "      <th>3038</th>\n",
       "      <td>LGA</td>\n",
       "      <td>ORD</td>\n",
       "      <td>7,156</td>\n",
       "    </tr>\n",
       "    <tr>\n",
       "      <th>2795</th>\n",
       "      <td>LAS</td>\n",
       "      <td>LAX</td>\n",
       "      <td>6,511</td>\n",
       "    </tr>\n",
       "    <tr>\n",
       "      <th>2670</th>\n",
       "      <td>JFK</td>\n",
       "      <td>LAX</td>\n",
       "      <td>6,320</td>\n",
       "    </tr>\n",
       "    <tr>\n",
       "      <th>2934</th>\n",
       "      <td>LAX</td>\n",
       "      <td>SEA</td>\n",
       "      <td>4,999</td>\n",
       "    </tr>\n",
       "    <tr>\n",
       "      <th>580</th>\n",
       "      <td>BOS</td>\n",
       "      <td>LGA</td>\n",
       "      <td>4,820</td>\n",
       "    </tr>\n",
       "    <tr>\n",
       "      <th>2214</th>\n",
       "      <td>HNL</td>\n",
       "      <td>OGG</td>\n",
       "      <td>4,794</td>\n",
       "    </tr>\n",
       "    <tr>\n",
       "      <th>4168</th>\n",
       "      <td>PDX</td>\n",
       "      <td>SEA</td>\n",
       "      <td>4,774</td>\n",
       "    </tr>\n",
       "    <tr>\n",
       "      <th>201</th>\n",
       "      <td>ATL</td>\n",
       "      <td>MCO</td>\n",
       "      <td>4,707</td>\n",
       "    </tr>\n",
       "    <tr>\n",
       "      <th>197</th>\n",
       "      <td>ATL</td>\n",
       "      <td>LGA</td>\n",
       "      <td>4,594</td>\n",
       "    </tr>\n",
       "  </tbody>\n",
       "</table>\n",
       "</div>"
      ],
      "text/plain": [
       "     ORIGIN_IATA_CODE DEST_IATA_CODE number_of_flights\n",
       "2935              LAX            SFO             8,340\n",
       "3038              LGA            ORD             7,156\n",
       "2795              LAS            LAX             6,511\n",
       "2670              JFK            LAX             6,320\n",
       "2934              LAX            SEA             4,999\n",
       "580               BOS            LGA             4,820\n",
       "2214              HNL            OGG             4,794\n",
       "4168              PDX            SEA             4,774\n",
       "201               ATL            MCO             4,707\n",
       "197               ATL            LGA             4,594"
      ]
     },
     "execution_count": 46,
     "metadata": {},
     "output_type": "execute_result"
    }
   ],
   "source": [
    "top_ten_flights = flights_stats(flights)\n",
    "\n",
    "format_numeric_columns(top_ten_flights)"
   ]
  },
  {
   "cell_type": "markdown",
   "metadata": {},
   "source": [
    "### Identifying 10 most profitable routes"
   ]
  },
  {
   "cell_type": "markdown",
   "metadata": {},
   "source": [
    "#### Revenue calculation"
   ]
  },
  {
   "cell_type": "code",
   "execution_count": 25,
   "metadata": {},
   "outputs": [],
   "source": [
    "flights['Revenue'] = 200 * flights['OCCUPANCY_RATE'] * 400 # $400 average ticket price \n",
    "flights['Baggage'] = 200 *  flights['OCCUPANCY_RATE'] * 70 * 0.5 # $70 avg baggage revenue per RT flight\n",
    "flights['TotalRevenue'] = flights['Revenue'] + flights['Baggage']"
   ]
  },
  {
   "cell_type": "markdown",
   "metadata": {},
   "source": [
    "#### Cost Calculation"
   ]
  },
  {
   "cell_type": "code",
   "execution_count": 26,
   "metadata": {},
   "outputs": [],
   "source": [
    "flights['AirportFees'] = np.where(flights['TYPE'] == 'medium_airport', 5_000, 10_000)\n",
    "\n"
   ]
  },
  {
   "cell_type": "code",
   "execution_count": 27,
   "metadata": {},
   "outputs": [],
   "source": [
    "flights['Cost'] = flights['DISTANCE'] * 9.18 + flights['AirportFees'] # $9.18 cost per mile\n",
    "flights['DelayCost'] = ((flights['DEP_DELAY'] + flights['ARR_DELAY'] - 30) * 75).clip(lower=0) # Delay cost\n",
    "flights['TotalCost'] = flights['Cost'] + flights['DelayCost'] "
   ]
  },
  {
   "cell_type": "markdown",
   "metadata": {},
   "source": [
    "#### Profit Calculation"
   ]
  },
  {
   "cell_type": "code",
   "execution_count": 45,
   "metadata": {},
   "outputs": [
    {
     "data": {
      "text/html": [
       "<div>\n",
       "<style scoped>\n",
       "    .dataframe tbody tr th:only-of-type {\n",
       "        vertical-align: middle;\n",
       "    }\n",
       "\n",
       "    .dataframe tbody tr th {\n",
       "        vertical-align: top;\n",
       "    }\n",
       "\n",
       "    .dataframe thead th {\n",
       "        text-align: right;\n",
       "    }\n",
       "</style>\n",
       "<table border=\"1\" class=\"dataframe\">\n",
       "  <thead>\n",
       "    <tr style=\"text-align: right;\">\n",
       "      <th></th>\n",
       "      <th>ORIGIN_IATA_CODE</th>\n",
       "      <th>DEST_IATA_CODE</th>\n",
       "      <th>Profit</th>\n",
       "    </tr>\n",
       "  </thead>\n",
       "  <tbody>\n",
       "    <tr>\n",
       "      <th>2935</th>\n",
       "      <td>LAX</td>\n",
       "      <td>SFO</td>\n",
       "      <td>316,104,510</td>\n",
       "    </tr>\n",
       "    <tr>\n",
       "      <th>3038</th>\n",
       "      <td>LGA</td>\n",
       "      <td>ORD</td>\n",
       "      <td>268,381,208</td>\n",
       "    </tr>\n",
       "    <tr>\n",
       "      <th>2795</th>\n",
       "      <td>LAS</td>\n",
       "      <td>LAX</td>\n",
       "      <td>255,189,743</td>\n",
       "    </tr>\n",
       "    <tr>\n",
       "      <th>2670</th>\n",
       "      <td>JFK</td>\n",
       "      <td>LAX</td>\n",
       "      <td>248,817,625</td>\n",
       "    </tr>\n",
       "    <tr>\n",
       "      <th>2214</th>\n",
       "      <td>HNL</td>\n",
       "      <td>OGG</td>\n",
       "      <td>204,707,852</td>\n",
       "    </tr>\n",
       "    <tr>\n",
       "      <th>2934</th>\n",
       "      <td>LAX</td>\n",
       "      <td>SEA</td>\n",
       "      <td>199,042,682</td>\n",
       "    </tr>\n",
       "    <tr>\n",
       "      <th>4168</th>\n",
       "      <td>PDX</td>\n",
       "      <td>SEA</td>\n",
       "      <td>188,683,157</td>\n",
       "    </tr>\n",
       "    <tr>\n",
       "      <th>201</th>\n",
       "      <td>ATL</td>\n",
       "      <td>MCO</td>\n",
       "      <td>187,358,346</td>\n",
       "    </tr>\n",
       "    <tr>\n",
       "      <th>580</th>\n",
       "      <td>BOS</td>\n",
       "      <td>LGA</td>\n",
       "      <td>182,153,575</td>\n",
       "    </tr>\n",
       "    <tr>\n",
       "      <th>168</th>\n",
       "      <td>ATL</td>\n",
       "      <td>FLL</td>\n",
       "      <td>181,651,197</td>\n",
       "    </tr>\n",
       "  </tbody>\n",
       "</table>\n",
       "</div>"
      ],
      "text/plain": [
       "     ORIGIN_IATA_CODE DEST_IATA_CODE       Profit\n",
       "2935              LAX            SFO  316,104,510\n",
       "3038              LGA            ORD  268,381,208\n",
       "2795              LAS            LAX  255,189,743\n",
       "2670              JFK            LAX  248,817,625\n",
       "2214              HNL            OGG  204,707,852\n",
       "2934              LAX            SEA  199,042,682\n",
       "4168              PDX            SEA  188,683,157\n",
       "201               ATL            MCO  187,358,346\n",
       "580               BOS            LGA  182,153,575\n",
       "168               ATL            FLL  181,651,197"
      ]
     },
     "execution_count": 45,
     "metadata": {},
     "output_type": "execute_result"
    }
   ],
   "source": [
    "flights['Profit'] = flights['TotalRevenue'] - flights['TotalCost']\n",
    "top_ten_profits = flights_stats(flights, group_keys=['ORIGIN_IATA_CODE', 'DEST_IATA_CODE'], aggregate_cols=['TotalRevenue','TotalCost','Profit'], new_aggreg_name=\"Profit\", count=False, top_n=10)\n",
    "format_numeric_columns(top_ten_profits)"
   ]
  },
  {
   "cell_type": "markdown",
   "metadata": {},
   "source": [
    "### Top 5 recommended routes"
   ]
  },
  {
   "cell_type": "code",
   "execution_count": 47,
   "metadata": {},
   "outputs": [
    {
     "data": {
      "text/html": [
       "<div>\n",
       "<style scoped>\n",
       "    .dataframe tbody tr th:only-of-type {\n",
       "        vertical-align: middle;\n",
       "    }\n",
       "\n",
       "    .dataframe tbody tr th {\n",
       "        vertical-align: top;\n",
       "    }\n",
       "\n",
       "    .dataframe thead th {\n",
       "        text-align: right;\n",
       "    }\n",
       "</style>\n",
       "<table border=\"1\" class=\"dataframe\">\n",
       "  <thead>\n",
       "    <tr style=\"text-align: right;\">\n",
       "      <th></th>\n",
       "      <th>ORIGIN_IATA_CODE</th>\n",
       "      <th>DEST_IATA_CODE</th>\n",
       "      <th>number_of_flights</th>\n",
       "      <th>Profit</th>\n",
       "    </tr>\n",
       "  </thead>\n",
       "  <tbody>\n",
       "    <tr>\n",
       "      <th>0</th>\n",
       "      <td>LAX</td>\n",
       "      <td>SFO</td>\n",
       "      <td>8,340</td>\n",
       "      <td>316,104,510</td>\n",
       "    </tr>\n",
       "    <tr>\n",
       "      <th>1</th>\n",
       "      <td>LGA</td>\n",
       "      <td>ORD</td>\n",
       "      <td>7,156</td>\n",
       "      <td>268,381,208</td>\n",
       "    </tr>\n",
       "    <tr>\n",
       "      <th>2</th>\n",
       "      <td>LAS</td>\n",
       "      <td>LAX</td>\n",
       "      <td>6,511</td>\n",
       "      <td>255,189,743</td>\n",
       "    </tr>\n",
       "    <tr>\n",
       "      <th>3</th>\n",
       "      <td>JFK</td>\n",
       "      <td>LAX</td>\n",
       "      <td>6,320</td>\n",
       "      <td>248,817,625</td>\n",
       "    </tr>\n",
       "    <tr>\n",
       "      <th>6</th>\n",
       "      <td>HNL</td>\n",
       "      <td>OGG</td>\n",
       "      <td>4,794</td>\n",
       "      <td>204,707,852</td>\n",
       "    </tr>\n",
       "  </tbody>\n",
       "</table>\n",
       "</div>"
      ],
      "text/plain": [
       "  ORIGIN_IATA_CODE DEST_IATA_CODE number_of_flights       Profit\n",
       "0              LAX            SFO             8,340  316,104,510\n",
       "1              LGA            ORD             7,156  268,381,208\n",
       "2              LAS            LAX             6,511  255,189,743\n",
       "3              JFK            LAX             6,320  248,817,625\n",
       "6              HNL            OGG             4,794  204,707,852"
      ]
     },
     "execution_count": 47,
     "metadata": {},
     "output_type": "execute_result"
    }
   ],
   "source": [
    "# Recommendations from busy & profitable routes\n",
    "recommendations = top_ten_flights.merge(top_ten_profits, on=['ORIGIN_IATA_CODE','DEST_IATA_CODE']) \n",
    "\n",
    "\n",
    "# Filter to top 5\n",
    "top5 = recommendations.nlargest(5, 'Profit')\n",
    "\n",
    "format_numeric_columns(top5)"
   ]
  },
  {
   "cell_type": "markdown",
   "metadata": {},
   "source": [
    "### Break-Even Analysis"
   ]
  },
  {
   "cell_type": "code",
   "execution_count": 48,
   "metadata": {},
   "outputs": [
    {
     "name": "stdout",
     "output_type": "stream",
     "text": [
      "LAX-SFO: 2374\n",
      "LGA-ORD: 2399\n",
      "LAS-LAX: 2296\n",
      "JFK-LAX: 2286\n",
      "HNL-OGG: 2107\n"
     ]
    }
   ],
   "source": [
    "# Add a profit per flight column for breakeven analysis\n",
    "top5[\"profit_per_flight\"] = top5[\"Profit\"]/top5[\"number_of_flights\"]\n",
    "# Recommended routes\n",
    "orig = top5.ORIGIN_IATA_CODE.tolist()\n",
    "dest = top5.DEST_IATA_CODE.tolist()\n",
    "\n",
    "top5_routes = zip(orig,dest)\n",
    "top5_routes_str = [*map(lambda x:\"-\".join(x), zip(orig,dest))]\n",
    "\n",
    "# Assume upfront cost per plane is $90 million \n",
    "upfront_cost = 90_000_000  \n",
    "\n",
    "# Calculate flights needed to break even\n",
    "breakeven_flights = []\n",
    "\n",
    "for route in top5_routes:\n",
    "\n",
    "  # Get revenue, cost, and profit for this route\n",
    "  route_stats = top5.loc[(top5.ORIGIN_IATA_CODE == route[0]) & (top5.DEST_IATA_CODE == route[1])]\n",
    "  #revenue = route_stats.TotalRevenue.values[0]\n",
    "  #cost = route_stats.TotalCost.values[0]\n",
    "  profit_per_flight = route_stats.profit_per_flight.values[0]\n",
    "  \n",
    "  # Calculate number of flights to cover upfront cost\n",
    "  num_flights = upfront_cost / profit_per_flight \n",
    "  \n",
    "  breakeven_flights.append(int(num_flights))\n",
    "\n",
    "# Print results  \n",
    "for route, num_flights in zip(top5_routes_str, breakeven_flights):\n",
    "  print(f\"{route}: {num_flights}\")"
   ]
  },
  {
   "cell_type": "markdown",
   "metadata": {},
   "source": [
    "#### Saving dataframe objects for reuse without running the whole notebook"
   ]
  },
  {
   "cell_type": "code",
   "execution_count": 88,
   "metadata": {},
   "outputs": [
    {
     "data": {
      "text/plain": [
       "ORIGIN_IATA_CODE      object\n",
       "DEST_IATA_CODE        object\n",
       "number_of_flights    float64\n",
       "Profit               float64\n",
       "profit_per_flight    float64\n",
       "lat_origin            object\n",
       "lon_origin            object\n",
       "lat_dest              object\n",
       "lon_dest              object\n",
       "dtype: object"
      ]
     },
     "execution_count": 88,
     "metadata": {},
     "output_type": "execute_result"
    }
   ],
   "source": [
    "# To be used for futher analysis in Business Intelligence\n",
    "delays = flights[flights.ORIGIN_IATA_CODE.isin(top_ten_flights.ORIGIN_IATA_CODE)].groupby('ORIGIN_IATA_CODE')['DEP_DELAY'].mean()\n",
    "# Create a copy of top5 DataFrame\n",
    "routes_map = top5.copy()\n",
    "# Get unique airport codes\n",
    "new_codes =airport_codes.loc[:,['IATA_CODE','LATITUDE','LONGITUDE']].dropna()\n",
    "unique_codes = new_codes.drop_duplicates(subset=[\"IATA_CODE\"])\n",
    "\n",
    "# Fetch latitude and longitude for origin and destination from airport_map\n",
    "routes_map['lat_origin'] = routes_map['ORIGIN_IATA_CODE'].map(unique_codes.set_index('IATA_CODE')['LATITUDE'])\n",
    "routes_map['lon_origin'] = routes_map['ORIGIN_IATA_CODE'].map(unique_codes.set_index('IATA_CODE')['LONGITUDE'])\n",
    "routes_map['lat_dest'] = routes_map['DEST_IATA_CODE'].map(unique_codes.set_index('IATA_CODE')['LATITUDE'])\n",
    "routes_map['lon_dest'] = routes_map['DEST_IATA_CODE'].map(unique_codes.set_index('IATA_CODE')['LONGITUDE'])\n",
    "\n",
    "# Reset index if needed\n",
    "routes_map.reset_index(drop=True, inplace=True)\n",
    "\n",
    "# Display the resulting DataFrame\n",
    "routes_map.iloc[:,2:]=routes_map.iloc[:,2:].astype(float)\n",
    "routes_map.dtypes"
   ]
  },
  {
   "cell_type": "code",
   "execution_count": 89,
   "metadata": {},
   "outputs": [],
   "source": [
    "import pickle\n",
    "\n",
    "# List of DataFrames to save\n",
    "df_to_save = [unique_codes, top_ten_flights, top_ten_profits, top5, delays, routes_map]\n",
    "\n",
    "# Loop through the list and save each DataFrame to a pickle file\n",
    "for idx, df in enumerate(df_to_save):\n",
    "    with open(f'dataframe_{idx}.pkl', 'wb') as f:\n",
    "        pickle.dump(df, f)\n"
   ]
  },
  {
   "cell_type": "markdown",
   "metadata": {},
   "source": [
    "## Business Intelligence"
   ]
  },
  {
   "cell_type": "code",
   "execution_count": 5,
   "metadata": {},
   "outputs": [],
   "source": [
    "import pickle\n",
    "# Define a dictionary to map file names to DataFrame contents\n",
    "dataframe_names = {\n",
    "    'dataframe_0.pkl': 'airport_map',\n",
    "    'dataframe_1.pkl': 'top_ten_flights',\n",
    "    'dataframe_2.pkl': 'top_ten_profits',\n",
    "    'dataframe_3.pkl': 'top5',\n",
    "    'dataframe_4.pkl': 'delays',\n",
    "    'dataframe_5.pkl': 'routes_map'\n",
    "}\n",
    "\n",
    "# Load the DataFrames from their respective pickle files\n",
    "loaded_dataframes = {}\n",
    "for filename, name in dataframe_names.items():\n",
    "    with open(filename, 'rb') as f:\n",
    "        loaded_dataframes[name] = pickle.load(f)\n",
    "\n",
    "# Now you can access the loaded DataFrames using their names\n",
    "airport_map = loaded_dataframes['airport_map']\n",
    "top_ten_flights = loaded_dataframes['top_ten_flights']\n",
    "top_ten_profits = loaded_dataframes['top_ten_profits']\n",
    "top5 = loaded_dataframes['top5']\n",
    "delays = loaded_dataframes['delays']\n",
    "delays.sort_values(inplace=True)\n",
    "routes_map = loaded_dataframes['routes_map']"
   ]
  },
  {
   "cell_type": "code",
   "execution_count": 17,
   "metadata": {},
   "outputs": [
    {
     "data": {
      "text/plain": [
       "(<Figure size 1600x800 with 1 Axes>,\n",
       " <Axes: title={'center': 'Average Flight Delay by Origin Airport'}, xlabel='Origin Airport (IATA Code)', ylabel='Average Departure Delay (min)'>)"
      ]
     },
     "execution_count": 17,
     "metadata": {},
     "output_type": "execute_result"
    },
    {
     "data": {
      "image/png": "[encoded data removed]",
      "text/plain": [
       "<Figure size 1600x800 with 1 Axes>"
      ]
     },
     "metadata": {},
     "output_type": "display_data"
    },
    {
     "data": {
      "image/png": "[encoded data removed]",
      "text/plain": [
       "<Figure size 1600x800 with 1 Axes>"
      ]
     },
     "metadata": {},
     "output_type": "display_data"
    },
    {
     "data": {
      "image/png": "[encoded data removed]",
      "text/plain": [
       "<Figure size 1600x800 with 1 Axes>"
      ]
     },
     "metadata": {},
     "output_type": "display_data"
    }
   ],
   "source": [
    "plot_graphs(top_ten_flights,index_name='ORIGIN_IATA_CODE', x_label='Origin Airport (IATA Code)', y_label='Total flights', title='Busiest Routes by Total Flights')\n",
    "plot_graphs(top_ten_profits,index_name='ORIGIN_IATA_CODE' , df_col='Profit', x_label='Origin Airport (IATA Code)', y_label='Total Profit ($)', title='Profitability of Most Profitable Routes')\n",
    "plot_graphs(delays,index_name=None, x_label='Origin Airport (IATA Code)', y_label='Average Departure Delay (min)', title='Average Flight Delay by Origin Airport')"
   ]
  },
  {
   "cell_type": "code",
   "execution_count": null,
   "metadata": {},
   "outputs": [],
   "source": []
  }
 ],
 "metadata": {
  "kernelspec": {
   "display_name": "ds_env",
   "language": "python",
   "name": "python3"
  },
  "language_info": {
   "codemirror_mode": {
    "name": "ipython",
    "version": 3
   },
   "file_extension": ".py",
   "mimetype": "text/x-python",
   "name": "python",
   "nbconvert_exporter": "python",
   "pygments_lexer": "ipython3",
   "version": "3.11.5"
  }
 },
 "nbformat": 4,
 "nbformat_minor": 2
}
